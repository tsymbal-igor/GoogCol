{
 "cells": [
  {
   "cell_type": "markdown",
   "metadata": {
    "colab_type": "text",
    "id": "view-in-github"
   },
   "source": [
    "<a href=\"https://colab.research.google.com/github/tsymbal-igor/GoogCol/blob/master/Maze.ipynb\" target=\"_parent\"><img src=\"https://colab.research.google.com/assets/colab-badge.svg\" alt=\"Open In Colab\"/></a>"
   ]
  },
  {
   "cell_type": "code",
   "execution_count": 0,
   "metadata": {
    "colab": {},
    "colab_type": "code",
    "id": "QsY70whJr4J1"
   },
   "outputs": [],
   "source": [
    "import numpy as np\n",
    "import random\n",
    "random.seed(100)"
   ]
  },
  {
   "cell_type": "code",
   "execution_count": 0,
   "metadata": {
    "colab": {},
    "colab_type": "code",
    "id": "cxZ9_rdWtLWA"
   },
   "outputs": [],
   "source": [
    "def initMaze():\n",
    "  maze=np.ones([13,13])\n",
    "  z=np.zeros([13])\n",
    "  maze[0]=z\n",
    "  maze[12]=z\n",
    "  maze[:,0]=z\n",
    "  maze[:,12]=z\n",
    "  return maze"
   ]
  },
  {
   "cell_type": "code",
   "execution_count": 0,
   "metadata": {
    "colab": {},
    "colab_type": "code",
    "id": "hdrySryFHs50"
   },
   "outputs": [],
   "source": [
    "def isMazeNotGood(maze):\n",
    "  notgood=False\n",
    "  for x in range(0,13):\n",
    "    for y in range(0,13):\n",
    "      if maze[1+y:3+y,1+x:3+x].sum()==4:\n",
    "        notgood=True\n",
    "  return notgood"
   ]
  },
  {
   "cell_type": "code",
   "execution_count": 0,
   "metadata": {
    "colab": {},
    "colab_type": "code",
    "id": "6WVlj9sLvr93"
   },
   "outputs": [],
   "source": [
    "def mazegen(seed,maze):\n",
    "  #random.seed(seed)\n",
    "  x,y=1,1\n",
    "  maze[y,x]=-1\n",
    "  while isMazeNotGood(maze):\n",
    "    direct=random.randint(1,4)\n",
    "    #print(y,x,end=' ')\n",
    "    if direct==1:#up\n",
    "      #print('up') \n",
    "      dx=0\n",
    "      dy=-1\n",
    "    elif direct==2:#right\n",
    "      #print('right')\n",
    "      dx=1\n",
    "      dy=0\n",
    "    elif direct==3:#down\n",
    "      #print('down')\n",
    "      dx=0\n",
    "      dy=1\n",
    "    elif direct==4:#left\n",
    "      #print('left')\n",
    "      dx=-1\n",
    "      dy=0\n",
    "\n",
    "    if (x+2*dx>0) & (x+2*dx<12) & (y+2*dy>0) & (y+2*dy<12):\n",
    "      if (((maze[y+dy,x+dx]==1) & (maze[y+2*dy,x+2*dx]!=-1)) | (maze[y+dy,x+dx]==-1)):\n",
    "        maze[y+dy,x+dx]=-1\n",
    "        maze[y+2*dy,x+2*dx]=-1\n",
    "        x+=2*dx\n",
    "        y+=2*dy\n",
    "  return maze"
   ]
  },
  {
   "cell_type": "code",
   "execution_count": 0,
   "metadata": {
    "colab": {},
    "colab_type": "code",
    "id": "u9NZtir8CUyb"
   },
   "outputs": [],
   "source": [
    "def showmaze(maze):\n",
    "  for y in range(13):\n",
    "    print('')\n",
    "    for x in range(13):\n",
    "      if ((maze[y,x]==0) | (maze[y,x]==1)):\n",
    "        print('# ',end='')\n",
    "      else:\n",
    "        print('  ',end='')"
   ]
  },
  {
   "cell_type": "code",
   "execution_count": 0,
   "metadata": {
    "colab": {
     "base_uri": "https://localhost:8080/",
     "height": 1000
    },
    "colab_type": "code",
    "id": "lq1YWKItGeEF",
    "outputId": "f60b32dc-88a1-48df-d7a1-86ca96dc6d38"
   },
   "outputs": [
    {
     "name": "stdout",
     "output_type": "stream",
     "text": [
      "\n",
      "# # # # # # # # # # # # # \n",
      "#       #               # \n",
      "#   #   # # #   # # #   # \n",
      "#   #       #       #   # \n",
      "# # # # #   # # # # #   # \n",
      "#       #               # \n",
      "#   #   # # # # # # #   # \n",
      "#   #               #   # \n",
      "#   # # # # # # #   #   # \n",
      "#       #   #           # \n",
      "#   # # #   #   #   # # # \n",
      "#   #           #       # \n",
      "# # # # # # # # # # # # # \n",
      "\n",
      "\n",
      "# # # # # # # # # # # # # \n",
      "#                   #   # \n",
      "# # # # # # # # #   #   # \n",
      "#   #                   # \n",
      "#   #   #   #   # # # # # \n",
      "#       #   #           # \n",
      "# # #   # # # # # # #   # \n",
      "#           #   #       # \n",
      "# # # # #   #   # # #   # \n",
      "#   #           #       # \n",
      "#   #   #   #   #   #   # \n",
      "#       #   #   #   #   # \n",
      "# # # # # # # # # # # # # \n",
      "\n",
      "\n",
      "# # # # # # # # # # # # # \n",
      "#   #                   # \n",
      "#   # # #   #   # # #   # \n",
      "#       #   #       #   # \n",
      "#   # # # # # # #   # # # \n",
      "#           #       #   # \n",
      "# # # # #   #   # # #   # \n",
      "#       #   #           # \n",
      "# # #   #   # # #   # # # \n",
      "#           #   #   #   # \n",
      "# # #   # # #   #   #   # \n",
      "#                       # \n",
      "# # # # # # # # # # # # # \n",
      "\n",
      "\n",
      "# # # # # # # # # # # # # \n",
      "#   #   #               # \n",
      "#   #   #   #   # # #   # \n",
      "#   #       #       #   # \n",
      "#   #   # # # # #   #   # \n",
      "#   #       #   #   #   # \n",
      "#   #   #   #   #   # # # \n",
      "#   #   #       #       # \n",
      "#   # # # # # # #   #   # \n",
      "#           #       #   # \n",
      "#   #   # # #   #   #   # \n",
      "#   #           #   #   # \n",
      "# # # # # # # # # # # # # \n",
      "\n"
     ]
    }
   ],
   "source": [
    "for n in range(4):\n",
    "  maze=initMaze()\n",
    "  maze=mazegen(n,maze)\n",
    "  showmaze(maze)\n",
    "  print('\\n')"
   ]
  }
 ],
 "metadata": {
  "colab": {
   "authorship_tag": "ABX9TyPPGBmavqpKXMv/3m4BFCaK",
   "include_colab_link": true,
   "name": "Maze.ipynb",
   "provenance": []
  },
  "kernelspec": {
   "display_name": "Python 3",
   "language": "python",
   "name": "python3"
  },
  "language_info": {
   "codemirror_mode": {
    "name": "ipython",
    "version": 3
   },
   "file_extension": ".py",
   "mimetype": "text/x-python",
   "name": "python",
   "nbconvert_exporter": "python",
   "pygments_lexer": "ipython3",
   "version": "3.7.6"
  }
 },
 "nbformat": 4,
 "nbformat_minor": 1
}
